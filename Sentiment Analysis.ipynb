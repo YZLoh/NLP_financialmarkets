{
 "cells": [
  {
   "cell_type": "markdown",
   "id": "pleasant-gauge",
   "metadata": {
    "toc": true
   },
   "source": [
    "<h1>Table of Contents<span class=\"tocSkip\"></span></h1>\n",
    "<div class=\"toc\"><ul class=\"toc-item\"><li><span><a href=\"#Import-News-Data\" data-toc-modified-id=\"Import-News-Data-1\"><span class=\"toc-item-num\">1&nbsp;&nbsp;</span>Import News Data</a></span></li><li><span><a href=\"#Sentiment-Analysis\" data-toc-modified-id=\"Sentiment-Analysis-2\"><span class=\"toc-item-num\">2&nbsp;&nbsp;</span>Sentiment Analysis</a></span><ul class=\"toc-item\"><li><span><a href=\"#VADER-Dictionary\" data-toc-modified-id=\"VADER-Dictionary-2.1\"><span class=\"toc-item-num\">2.1&nbsp;&nbsp;</span>VADER Dictionary</a></span></li><li><span><a href=\"#WordNet-dictionary\" data-toc-modified-id=\"WordNet-dictionary-2.2\"><span class=\"toc-item-num\">2.2&nbsp;&nbsp;</span>WordNet dictionary</a></span></li><li><span><a href=\"#Multinomial-Naive-Bayes\" data-toc-modified-id=\"Multinomial-Naive-Bayes-2.3\"><span class=\"toc-item-num\">2.3&nbsp;&nbsp;</span>Multinomial Naive Bayes</a></span><ul class=\"toc-item\"><li><span><a href=\"#Import-training-and-validation-data\" data-toc-modified-id=\"Import-training-and-validation-data-2.3.1\"><span class=\"toc-item-num\">2.3.1&nbsp;&nbsp;</span>Import training and validation data</a></span></li><li><span><a href=\"#Validation-using-articles'-content\" data-toc-modified-id=\"Validation-using-articles'-content-2.3.2\"><span class=\"toc-item-num\">2.3.2&nbsp;&nbsp;</span>Validation using articles' content</a></span></li><li><span><a href=\"#Validation-using-articles'-headlines\" data-toc-modified-id=\"Validation-using-articles'-headlines-2.3.3\"><span class=\"toc-item-num\">2.3.3&nbsp;&nbsp;</span>Validation using articles' headlines</a></span></li><li><span><a href=\"#Prediction\" data-toc-modified-id=\"Prediction-2.3.4\"><span class=\"toc-item-num\">2.3.4&nbsp;&nbsp;</span>Prediction</a></span></li></ul></li><li><span><a href=\"#Bi-LSTM\" data-toc-modified-id=\"Bi-LSTM-2.4\"><span class=\"toc-item-num\">2.4&nbsp;&nbsp;</span>Bi-LSTM</a></span></li><li><span><a href=\"#Notes\" data-toc-modified-id=\"Notes-2.5\"><span class=\"toc-item-num\">2.5&nbsp;&nbsp;</span>Notes</a></span></li></ul></li></ul></div>"
   ]
  },
  {
   "cell_type": "code",
   "execution_count": 1,
   "id": "alternative-expert",
   "metadata": {
    "ExecuteTime": {
     "end_time": "2021-02-23T00:46:15.368175Z",
     "start_time": "2021-02-23T00:46:12.345938Z"
    }
   },
   "outputs": [],
   "source": [
    "# Import libraries \n",
    "import numpy as np\n",
    "import pandas as pd\n",
    "import os\n",
    "\n",
    "from datetime import datetime"
   ]
  },
  {
   "cell_type": "markdown",
   "id": "annual-blame",
   "metadata": {},
   "source": [
    "# Import News Data"
   ]
  },
  {
   "cell_type": "code",
   "execution_count": 2,
   "id": "lyric-print",
   "metadata": {
    "ExecuteTime": {
     "end_time": "2021-02-23T00:46:18.100010Z",
     "start_time": "2021-02-23T00:46:15.369686Z"
    },
    "code_folding": []
   },
   "outputs": [
    {
     "data": {
      "text/plain": [
       "(38515, 7)"
      ]
     },
     "execution_count": 2,
     "metadata": {},
     "output_type": "execute_result"
    }
   ],
   "source": [
    "zip_lst = ['Data1.zip', 'Data2.zip', 'Data3.zip']\n",
    "df_news = pd.DataFrame()\n",
    "\n",
    "for zip_dt in zip_lst:\n",
    "    df_news = pd.concat([df_news, pd.read_csv(zip_dt)], axis=0)\n",
    "\n",
    "# Remove entries without content\n",
    "df_news['content'].replace('empty string', np.nan, inplace=True)\n",
    "df_news = df_news.loc[~df_news['content'].isna(), ]\n",
    "\n",
    "# Reset index\n",
    "df_news.reset_index(drop=True, inplace=True)\n",
    "\n",
    "df_news.shape"
   ]
  },
  {
   "cell_type": "code",
   "execution_count": 3,
   "id": "given-contributor",
   "metadata": {
    "ExecuteTime": {
     "end_time": "2021-02-23T00:46:18.114015Z",
     "start_time": "2021-02-23T00:46:18.101979Z"
    },
    "scrolled": true
   },
   "outputs": [
    {
     "data": {
      "text/html": [
       "<div>\n",
       "<style scoped>\n",
       "    .dataframe tbody tr th:only-of-type {\n",
       "        vertical-align: middle;\n",
       "    }\n",
       "\n",
       "    .dataframe tbody tr th {\n",
       "        vertical-align: top;\n",
       "    }\n",
       "\n",
       "    .dataframe thead th {\n",
       "        text-align: right;\n",
       "    }\n",
       "</style>\n",
       "<table border=\"1\" class=\"dataframe\">\n",
       "  <thead>\n",
       "    <tr style=\"text-align: right;\">\n",
       "      <th></th>\n",
       "      <th>ticker</th>\n",
       "      <th>date</th>\n",
       "      <th>time</th>\n",
       "      <th>headline</th>\n",
       "      <th>news</th>\n",
       "      <th>content</th>\n",
       "      <th>site</th>\n",
       "    </tr>\n",
       "  </thead>\n",
       "  <tbody>\n",
       "    <tr>\n",
       "      <th>0</th>\n",
       "      <td>MMM</td>\n",
       "      <td>Feb-19-21</td>\n",
       "      <td>08:11AM</td>\n",
       "      <td>Did You Acquire 3M (MMM) Before February 9, 20...</td>\n",
       "      <td>PR Newswire</td>\n",
       "      <td>SAN DIEGO, Feb. 19, 2021 /PRNewswire/ -- Johns...</td>\n",
       "      <td>finance.yahoo.com</td>\n",
       "    </tr>\n",
       "    <tr>\n",
       "      <th>1</th>\n",
       "      <td>MMM</td>\n",
       "      <td>Feb-18-21</td>\n",
       "      <td>11:00AM</td>\n",
       "      <td>3M launches New 3M Clean &amp; Protect Certified B...</td>\n",
       "      <td>PR Newswire</td>\n",
       "      <td>The new four-part program promotes cleanliness...</td>\n",
       "      <td>finance.yahoo.com</td>\n",
       "    </tr>\n",
       "    <tr>\n",
       "      <th>2</th>\n",
       "      <td>MMM</td>\n",
       "      <td>Feb-17-21</td>\n",
       "      <td>09:37AM</td>\n",
       "      <td>ROCE Insights For 3M</td>\n",
       "      <td>Benzinga</td>\n",
       "      <td>3M (NYSE:MMM) posted a 3.14% decrease in earni...</td>\n",
       "      <td>finance.yahoo.com</td>\n",
       "    </tr>\n",
       "    <tr>\n",
       "      <th>3</th>\n",
       "      <td>MMM</td>\n",
       "      <td>Feb-16-21</td>\n",
       "      <td>04:18PM</td>\n",
       "      <td>Why 3M is spending $1 billion to help improve ...</td>\n",
       "      <td>Yahoo Finance</td>\n",
       "      <td>3M Chairman and CEO Mike Roman said it's time ...</td>\n",
       "      <td>finance.yahoo.com</td>\n",
       "    </tr>\n",
       "    <tr>\n",
       "      <th>4</th>\n",
       "      <td>MMM</td>\n",
       "      <td>Feb-16-21</td>\n",
       "      <td>03:58PM</td>\n",
       "      <td>3M CEO on the company's plans to invest $1B to...</td>\n",
       "      <td>Yahoo Finance Video</td>\n",
       "      <td>Mike Roman, 3M Chairman and CEO, joined Yahoo ...</td>\n",
       "      <td>finance.yahoo.com</td>\n",
       "    </tr>\n",
       "  </tbody>\n",
       "</table>\n",
       "</div>"
      ],
      "text/plain": [
       "  ticker       date     time  \\\n",
       "0    MMM  Feb-19-21  08:11AM   \n",
       "1    MMM  Feb-18-21  11:00AM   \n",
       "2    MMM  Feb-17-21  09:37AM   \n",
       "3    MMM  Feb-16-21  04:18PM   \n",
       "4    MMM  Feb-16-21  03:58PM   \n",
       "\n",
       "                                            headline                  news  \\\n",
       "0  Did You Acquire 3M (MMM) Before February 9, 20...           PR Newswire   \n",
       "1  3M launches New 3M Clean & Protect Certified B...           PR Newswire   \n",
       "2                               ROCE Insights For 3M              Benzinga   \n",
       "3  Why 3M is spending $1 billion to help improve ...         Yahoo Finance   \n",
       "4  3M CEO on the company's plans to invest $1B to...   Yahoo Finance Video   \n",
       "\n",
       "                                             content               site  \n",
       "0  SAN DIEGO, Feb. 19, 2021 /PRNewswire/ -- Johns...  finance.yahoo.com  \n",
       "1  The new four-part program promotes cleanliness...  finance.yahoo.com  \n",
       "2  3M (NYSE:MMM) posted a 3.14% decrease in earni...  finance.yahoo.com  \n",
       "3  3M Chairman and CEO Mike Roman said it's time ...  finance.yahoo.com  \n",
       "4  Mike Roman, 3M Chairman and CEO, joined Yahoo ...  finance.yahoo.com  "
      ]
     },
     "execution_count": 3,
     "metadata": {},
     "output_type": "execute_result"
    }
   ],
   "source": [
    "df_news.head()"
   ]
  },
  {
   "cell_type": "code",
   "execution_count": 4,
   "id": "deluxe-dealer",
   "metadata": {
    "ExecuteTime": {
     "end_time": "2021-02-23T00:46:18.119007Z",
     "start_time": "2021-02-23T00:46:18.114980Z"
    }
   },
   "outputs": [],
   "source": [
    "# Random sampling for manual labelling \n",
    "# df_sample = df_news.sample(100)\n",
    "# df_sample.to_csv('data/news_sample.csv')"
   ]
  },
  {
   "cell_type": "code",
   "execution_count": 5,
   "id": "usual-recognition",
   "metadata": {
    "ExecuteTime": {
     "end_time": "2021-02-23T00:46:18.153013Z",
     "start_time": "2021-02-23T00:46:18.120979Z"
    }
   },
   "outputs": [
    {
     "data": {
      "text/html": [
       "<div>\n",
       "<style scoped>\n",
       "    .dataframe tbody tr th:only-of-type {\n",
       "        vertical-align: middle;\n",
       "    }\n",
       "\n",
       "    .dataframe tbody tr th {\n",
       "        vertical-align: top;\n",
       "    }\n",
       "\n",
       "    .dataframe thead th {\n",
       "        text-align: right;\n",
       "    }\n",
       "</style>\n",
       "<table border=\"1\" class=\"dataframe\">\n",
       "  <thead>\n",
       "    <tr style=\"text-align: right;\">\n",
       "      <th></th>\n",
       "      <th>ticker</th>\n",
       "      <th>date</th>\n",
       "      <th>time</th>\n",
       "      <th>headline</th>\n",
       "      <th>news</th>\n",
       "      <th>content</th>\n",
       "      <th>site</th>\n",
       "      <th>sent</th>\n",
       "    </tr>\n",
       "  </thead>\n",
       "  <tbody>\n",
       "    <tr>\n",
       "      <th>3174</th>\n",
       "      <td>PM</td>\n",
       "      <td>Feb-04-21</td>\n",
       "      <td>10:33AM</td>\n",
       "      <td>Philip Morris (PM) Q4 Earnings Beat Estimates ...</td>\n",
       "      <td>Zacks</td>\n",
       "      <td>Philip Morris International Inc. PM reported f...</td>\n",
       "      <td>finance.yahoo.com</td>\n",
       "      <td>1</td>\n",
       "    </tr>\n",
       "    <tr>\n",
       "      <th>8657</th>\n",
       "      <td>CTLT</td>\n",
       "      <td>Sep-09-20</td>\n",
       "      <td>10:14AM</td>\n",
       "      <td>Radius Completes Enrollment in Phase III Osteo...</td>\n",
       "      <td>Zacks</td>\n",
       "      <td>Radius Health, Inc. RDUS announced the complet...</td>\n",
       "      <td>finance.yahoo.com</td>\n",
       "      <td>1</td>\n",
       "    </tr>\n",
       "    <tr>\n",
       "      <th>16599</th>\n",
       "      <td>ZTS</td>\n",
       "      <td>Feb-12-21</td>\n",
       "      <td>08:38AM</td>\n",
       "      <td>Is a Surprise Coming for Zoetis (ZTS) This Ear...</td>\n",
       "      <td>Zacks</td>\n",
       "      <td>Investors are always looking for stocks that a...</td>\n",
       "      <td>finance.yahoo.com</td>\n",
       "      <td>1</td>\n",
       "    </tr>\n",
       "    <tr>\n",
       "      <th>5695</th>\n",
       "      <td>AZO</td>\n",
       "      <td>Sep-18-20</td>\n",
       "      <td>06:25AM</td>\n",
       "      <td>If You Had Bought AutoZone (NYSE:AZO) Shares T...</td>\n",
       "      <td>Simply Wall St.</td>\n",
       "      <td>The worst result, after buying shares in a com...</td>\n",
       "      <td>finance.yahoo.com</td>\n",
       "      <td>1</td>\n",
       "    </tr>\n",
       "    <tr>\n",
       "      <th>7327</th>\n",
       "      <td>SEE</td>\n",
       "      <td>May-28-20</td>\n",
       "      <td>09:08AM</td>\n",
       "      <td>Sealed Air (SEE) Stock Down 18% YTD: Will it B...</td>\n",
       "      <td>Zacks</td>\n",
       "      <td>Sealed Air Corporation’s SEE focus on innovati...</td>\n",
       "      <td>finance.yahoo.com</td>\n",
       "      <td>0</td>\n",
       "    </tr>\n",
       "  </tbody>\n",
       "</table>\n",
       "</div>"
      ],
      "text/plain": [
       "      ticker       date     time  \\\n",
       "3174      PM  Feb-04-21  10:33AM   \n",
       "8657    CTLT  Sep-09-20  10:14AM   \n",
       "16599    ZTS  Feb-12-21  08:38AM   \n",
       "5695     AZO  Sep-18-20  06:25AM   \n",
       "7327     SEE  May-28-20  09:08AM   \n",
       "\n",
       "                                                headline              news  \\\n",
       "3174   Philip Morris (PM) Q4 Earnings Beat Estimates ...             Zacks   \n",
       "8657   Radius Completes Enrollment in Phase III Osteo...             Zacks   \n",
       "16599  Is a Surprise Coming for Zoetis (ZTS) This Ear...             Zacks   \n",
       "5695   If You Had Bought AutoZone (NYSE:AZO) Shares T...   Simply Wall St.   \n",
       "7327   Sealed Air (SEE) Stock Down 18% YTD: Will it B...             Zacks   \n",
       "\n",
       "                                                 content               site  \\\n",
       "3174   Philip Morris International Inc. PM reported f...  finance.yahoo.com   \n",
       "8657   Radius Health, Inc. RDUS announced the complet...  finance.yahoo.com   \n",
       "16599  Investors are always looking for stocks that a...  finance.yahoo.com   \n",
       "5695   The worst result, after buying shares in a com...  finance.yahoo.com   \n",
       "7327   Sealed Air Corporation’s SEE focus on innovati...  finance.yahoo.com   \n",
       "\n",
       "       sent  \n",
       "3174      1  \n",
       "8657      1  \n",
       "16599     1  \n",
       "5695      1  \n",
       "7327      0  "
      ]
     },
     "execution_count": 5,
     "metadata": {},
     "output_type": "execute_result"
    }
   ],
   "source": [
    "# Import labelled validation data \n",
    "valid = pd.read_csv('data/news_sample.csv', index_col=0)\n",
    "valid.head()"
   ]
  },
  {
   "cell_type": "markdown",
   "id": "finnish-johnson",
   "metadata": {},
   "source": [
    "# Sentiment Analysis"
   ]
  },
  {
   "cell_type": "markdown",
   "id": "informal-hospital",
   "metadata": {},
   "source": [
    "## VADER Dictionary "
   ]
  },
  {
   "cell_type": "markdown",
   "id": "presidential-consistency",
   "metadata": {},
   "source": [
    "- Notes \n",
    "    - Removal of stopwords and punctuations not required.  \n",
    "    - Source: [Link](https://stackoverflow.com/questions/45296897/is-there-a-way-to-improve-performance-of-nltk-sentiment-vader-sentiment-analyser)"
   ]
  },
  {
   "cell_type": "code",
   "execution_count": 6,
   "id": "cloudy-douglas",
   "metadata": {
    "ExecuteTime": {
     "end_time": "2021-02-23T00:46:23.995596Z",
     "start_time": "2021-02-23T00:46:18.154011Z"
    }
   },
   "outputs": [],
   "source": [
    "from nltk.sentiment.vader import SentimentIntensityAnalyzer\n",
    "import nltk"
   ]
  },
  {
   "cell_type": "code",
   "execution_count": 7,
   "id": "numerous-companion",
   "metadata": {
    "ExecuteTime": {
     "end_time": "2021-02-23T00:46:24.771054Z",
     "start_time": "2021-02-23T00:46:23.996502Z"
    },
    "scrolled": false
   },
   "outputs": [
    {
     "data": {
      "text/plain": [
       "count    100.000000\n",
       "mean       0.874052\n",
       "std        0.370407\n",
       "min       -0.947700\n",
       "25%        0.967550\n",
       "50%        0.995700\n",
       "75%        0.997925\n",
       "max        0.999900\n",
       "dtype: float64"
      ]
     },
     "execution_count": 7,
     "metadata": {},
     "output_type": "execute_result"
    }
   ],
   "source": [
    "# Predict sentiment score using VADER\n",
    "sid = SentimentIntensityAnalyzer()\n",
    "sent = valid['content'].apply(sid.polarity_scores)\n",
    "sent = pd.Series([x['compound'] for x in sent]) # get only compound score\n",
    "sent.describe()"
   ]
  },
  {
   "cell_type": "code",
   "execution_count": 8,
   "id": "opened-faith",
   "metadata": {
    "ExecuteTime": {
     "end_time": "2021-02-23T00:46:24.816047Z",
     "start_time": "2021-02-23T00:46:24.772044Z"
    },
    "scrolled": true
   },
   "outputs": [
    {
     "data": {
      "text/plain": [
       "SpearmanrResult(correlation=0.3206755922037266, pvalue=0.0011427719959698362)"
      ]
     },
     "execution_count": 8,
     "metadata": {},
     "output_type": "execute_result"
    }
   ],
   "source": [
    "# Calculate correlation between pred and true \n",
    "sent.corr(valid['sent'], method='spearman') # return nan for unknown reason \n",
    "\n",
    "# Check if the variance is zero \n",
    "from statistics import variance \n",
    "import math\n",
    "math.sqrt(variance(sent))\n",
    "math.sqrt(variance(valid['sent']))\n",
    "\n",
    "# Carry out same execution using scipy \n",
    "from scipy.stats import spearmanr\n",
    "spearmanr(sent, valid['sent'])"
   ]
  },
  {
   "cell_type": "markdown",
   "id": "heated-pennsylvania",
   "metadata": {},
   "source": [
    "## WordNet dictionary"
   ]
  },
  {
   "cell_type": "markdown",
   "id": "original-fifty",
   "metadata": {},
   "source": [
    "- A large lexical database of English. Nouns, verbs, adjectives and adverbs are grouped into sets of cognitive synonyms (synsets)   \n",
    "- Details: https://www.notion.so/WordNet-SentiWordNet-e783be8f64484b899726ab5026ba63f3"
   ]
  },
  {
   "cell_type": "code",
   "execution_count": 9,
   "id": "worldwide-mustang",
   "metadata": {
    "ExecuteTime": {
     "end_time": "2021-02-23T00:46:24.821051Z",
     "start_time": "2021-02-23T00:46:24.817020Z"
    }
   },
   "outputs": [],
   "source": [
    "import nltk\n",
    "import re\n",
    "\n",
    "from nltk.corpus import sentiwordnet as swn\n",
    "from nltk.corpus import wordnet as wn\n",
    "from nltk.corpus import stopwords\n",
    "from nltk.stem import WordNetLemmatizer"
   ]
  },
  {
   "cell_type": "code",
   "execution_count": 10,
   "id": "diagnostic-prediction",
   "metadata": {
    "ExecuteTime": {
     "end_time": "2021-02-23T00:46:24.830055Z",
     "start_time": "2021-02-23T00:46:24.822021Z"
    }
   },
   "outputs": [],
   "source": [
    "# Define functions for text preprocessing \n",
    "\n",
    "def remove_punct(x):\n",
    "    '''Remove punctuations in a string'''\n",
    "    special_chars_p = \"[.,;®'&$’\\\"\\-()#@!?/:]\"\n",
    "    s1 = re.sub(special_chars_p, '', x)  \n",
    "    return(s1)\n",
    "\n",
    "stopword = stopwords.words('english')\n",
    "def remove_stopwords(x):\n",
    "    '''Remove stopwords in a string'''\n",
    "    s1 = [word for word in x.split() if word not in stopword]\n",
    "    s1 = ' '.join(s1)\n",
    "    return s1\n",
    "\n",
    "def get_wordnet_pos(treebank_tag):\n",
    "    '''Get pos tag of each word in a text'''\n",
    "    # Note that nltk's default tags don't work in wordnet\n",
    "    # A conversion of tags is hence necessary\n",
    "    # Source: https://stackoverflow.com/questions/15586721/wordnet-lemmatization-and-pos-tagging-in-python\n",
    "    \n",
    "    if treebank_tag.startswith('J'):\n",
    "        return wn.ADJ\n",
    "    elif treebank_tag.startswith('V'):\n",
    "        return wn.VERB\n",
    "    elif treebank_tag.startswith('N'):\n",
    "        return wn.NOUN\n",
    "    elif treebank_tag.startswith('R'):\n",
    "        return wn.ADV\n",
    "    else:\n",
    "        return None     "
   ]
  },
  {
   "cell_type": "code",
   "execution_count": 11,
   "id": "endless-benjamin",
   "metadata": {
    "ExecuteTime": {
     "end_time": "2021-02-23T00:47:12.103076Z",
     "start_time": "2021-02-23T00:46:24.831020Z"
    }
   },
   "outputs": [
    {
     "name": "stdout",
     "output_type": "stream",
     "text": [
      "count    100.000000\n",
      "mean       0.025060\n",
      "std        0.019332\n",
      "min       -0.029639\n",
      "25%        0.015455\n",
      "50%        0.023944\n",
      "75%        0.035819\n",
      "max        0.089286\n",
      "Name: content, dtype: float64\n"
     ]
    }
   ],
   "source": [
    "# Define a function for sentiment analysis\n",
    "\n",
    "lemmatizer = WordNetLemmatizer()\n",
    "\n",
    "def analyze_sentiment(news):\n",
    "    '''Calculate sentiment score of articles using WordNet'''   \n",
    "    sentiments = []\n",
    "    \n",
    "    # Tokenize into sentences to get pos tags in each sentence later\n",
    "    sentences = nltk.word_tokenize(news)\n",
    "          \n",
    "    for sentence in sentences: \n",
    "        # Remove punctuations \n",
    "        sentence = remove_punct(sentence)\n",
    "        # not removing stopwords to keep the sentence structure \n",
    "        \n",
    "        # Tokenize the sentence into words \n",
    "        sentence = nltk.word_tokenize(sentence)\n",
    "        \n",
    "        # Get pos tags\n",
    "        tags = nltk.pos_tag(sentence)\n",
    "                \n",
    "        for word, tag in tags:\n",
    "            # Convert nltk pos tag into wordnet tag \n",
    "            wn_tag = get_wordnet_pos(tag)\n",
    "            if not wn_tag: # Skip if tag is None \n",
    "                continue \n",
    "            \n",
    "            # Lemmatize the word \n",
    "            lemma = lemmatizer.lemmatize(word, wn_tag)\n",
    "            if not lemma: # Skip if lemma is None \n",
    "                continue \n",
    "            \n",
    "            # Get synset for the word from wordnet \n",
    "            synsets = wn.synsets(lemma, wn_tag)\n",
    "            if not synsets: # Skip if synsets is None \n",
    "                continue \n",
    "            synset = synsets[0] # get the closest word \n",
    "            \n",
    "            # Get sentiment score from sentiwordnet\n",
    "            swn_synset = swn.senti_synset(synset.name())\n",
    "            sentiments.append(swn_synset.pos_score() - swn_synset.neg_score())\n",
    "    \n",
    "    return sum(sentiments)/len(sentiments)\n",
    "\n",
    "# Predict sentiment score using WordNet\n",
    "sent = valid['content'].apply(analyze_sentiment)\n",
    "print(sent.describe())"
   ]
  },
  {
   "cell_type": "code",
   "execution_count": 12,
   "id": "previous-muscle",
   "metadata": {
    "ExecuteTime": {
     "end_time": "2021-02-23T00:47:12.109110Z",
     "start_time": "2021-02-23T00:47:12.104075Z"
    }
   },
   "outputs": [
    {
     "data": {
      "text/plain": [
       "0.30821886857806274"
      ]
     },
     "execution_count": 12,
     "metadata": {},
     "output_type": "execute_result"
    }
   ],
   "source": [
    "# Calculate correlation between pred and true \n",
    "sent.corr(valid['sent'], method='spearman')"
   ]
  },
  {
   "cell_type": "code",
   "execution_count": 13,
   "id": "particular-strand",
   "metadata": {
    "ExecuteTime": {
     "end_time": "2021-02-23T00:47:12.116078Z",
     "start_time": "2021-02-23T00:47:12.110074Z"
    }
   },
   "outputs": [
    {
     "data": {
      "text/plain": [
       "SpearmanrResult(correlation=0.30821886857806274, pvalue=0.001809982844963061)"
      ]
     },
     "execution_count": 13,
     "metadata": {},
     "output_type": "execute_result"
    }
   ],
   "source": [
    "# Same execution using scipy \n",
    "spearmanr(sent, valid['sent'])"
   ]
  },
  {
   "cell_type": "markdown",
   "id": "ceramic-identity",
   "metadata": {},
   "source": [
    "## Multinomial Naive Bayes "
   ]
  },
  {
   "cell_type": "code",
   "execution_count": 14,
   "id": "technical-broadcast",
   "metadata": {
    "ExecuteTime": {
     "end_time": "2021-02-23T00:47:12.153075Z",
     "start_time": "2021-02-23T00:47:12.117075Z"
    }
   },
   "outputs": [],
   "source": [
    "from sklearn.naive_bayes import MultinomialNB\n",
    "from sklearn.feature_extraction.text import TfidfVectorizer, CountVectorizer\n",
    "from sklearn.metrics import f1_score, mean_squared_error"
   ]
  },
  {
   "cell_type": "markdown",
   "id": "treated-answer",
   "metadata": {},
   "source": [
    "### Import training and validation data"
   ]
  },
  {
   "cell_type": "code",
   "execution_count": 15,
   "id": "muslim-ecuador",
   "metadata": {
    "ExecuteTime": {
     "end_time": "2021-02-23T00:47:12.180108Z",
     "start_time": "2021-02-23T00:47:12.154089Z"
    },
    "scrolled": true
   },
   "outputs": [
    {
     "name": "stdout",
     "output_type": "stream",
     "text": [
      " 0    2879\n",
      " 1    1363\n",
      "-1     604\n",
      "Name: sent, dtype: int64\n",
      " 1    61\n",
      " 0    27\n",
      "-1    12\n",
      "Name: sent, dtype: int64\n"
     ]
    }
   ],
   "source": [
    "# Import training data \n",
    "# source: https://www.kaggle.com/ankurzing/sentiment-analysis-for-financial-news\n",
    "train = pd.read_csv('data/news_classified_training.csv', \n",
    "                    header=None, \n",
    "                    names=['sent', 'text'])\n",
    "\n",
    "# Change str to numerical for sent\n",
    "dict_map = {'neutral':0, 'negative':-1, 'positive':1}\n",
    "train['sent'] = train['sent'].map(dict_map)\n",
    "print(train['sent'].value_counts())\n",
    "\n",
    "# Import validation data \n",
    "valid = pd.read_csv('data/news_sample.csv', index_col=0)\n",
    "print(valid['sent'].value_counts())"
   ]
  },
  {
   "cell_type": "markdown",
   "id": "unsigned-visitor",
   "metadata": {},
   "source": [
    "### Validation using articles' content"
   ]
  },
  {
   "cell_type": "code",
   "execution_count": 16,
   "id": "nominated-chase",
   "metadata": {
    "ExecuteTime": {
     "end_time": "2021-02-23T00:47:12.684594Z",
     "start_time": "2021-02-23T00:47:12.181074Z"
    },
    "scrolled": false
   },
   "outputs": [
    {
     "name": "stdout",
     "output_type": "stream",
     "text": [
      "F1 score for word count vectorizer: 0.47\n",
      "F1 score for tdidf vectorizer: 0.35\n"
     ]
    }
   ],
   "source": [
    "# Vectorize text\n",
    "# Way 1: Word count vector\n",
    "vec_count = CountVectorizer(stop_words='english')\n",
    "vec_count.fit(train['text'])\n",
    "X_train_count = vec_count.transform(train['text'])\n",
    "\n",
    "# Train MNB model \n",
    "y_train = train['sent']\n",
    "clf = MultinomialNB()\n",
    "clf.fit(X_train_count, y_train)\n",
    "\n",
    "# Assess model performance using f1 score\n",
    "X_valid_count = vec_count.transform(valid['content'])\n",
    "y_pred = clf.predict(X_valid_count)\n",
    "y_valid = valid['sent']\n",
    "print('F1 score for word count vectorizer:', f1_score(y_valid, y_pred, average='micro'))\n",
    "\n",
    "# Way 2: TF-IDF vector\n",
    "vec_tfidf = TfidfVectorizer(stop_words='english')\n",
    "X_train_tfidf = vec_tfidf.fit_transform(train['text'])\n",
    "\n",
    "# Train MNB model \n",
    "y_train = train['sent']\n",
    "clf = MultinomialNB()\n",
    "clf.fit(X_train_tfidf, y_train)\n",
    "\n",
    "# Assess model performance using f1 score\n",
    "X_valid_count = vec_tfidf.transform(valid['content'])\n",
    "y_pred = clf.predict(X_valid_count)\n",
    "print('F1 score for tdidf vectorizer:', f1_score(y_valid, y_pred, average='micro'))"
   ]
  },
  {
   "cell_type": "markdown",
   "id": "centered-decade",
   "metadata": {},
   "source": [
    "### Validation using articles' headlines"
   ]
  },
  {
   "cell_type": "code",
   "execution_count": 17,
   "id": "hungry-stick",
   "metadata": {
    "ExecuteTime": {
     "end_time": "2021-02-23T00:47:12.937593Z",
     "start_time": "2021-02-23T00:47:12.685593Z"
    }
   },
   "outputs": [
    {
     "name": "stdout",
     "output_type": "stream",
     "text": [
      "F1 score for word count vectorizer: 0.37\n",
      "F1 score for tdidf vectorizer: 0.35\n"
     ]
    }
   ],
   "source": [
    "# Vectorize text\n",
    "# Way 1: Word count vector\n",
    "vec_count = CountVectorizer(stop_words='english')\n",
    "vec_count.fit(train['text'])\n",
    "X_train_count = vec_count.transform(train['text'])\n",
    "\n",
    "# Train MNB model \n",
    "y_train = train['sent']\n",
    "clf = MultinomialNB()\n",
    "clf.fit(X_train_count, y_train)\n",
    "\n",
    "# Assess model performance using f1 score\n",
    "X_valid_count = vec_count.transform(valid['headline'])\n",
    "y_pred = clf.predict(X_valid_count)\n",
    "y_valid = valid['sent']\n",
    "print('F1 score for word count vectorizer:', f1_score(y_valid, y_pred, average='micro'))\n",
    "\n",
    "# Way 2: TF-IDF vector\n",
    "vec_tfidf = TfidfVectorizer(stop_words='english')\n",
    "X_train_tfidf = vec_tfidf.fit_transform(train['text'])\n",
    "\n",
    "# Train MNB model \n",
    "y_train = train['sent']\n",
    "clf = MultinomialNB()\n",
    "clf.fit(X_train_tfidf, y_train)\n",
    "\n",
    "# Assess model performance using f1 score\n",
    "X_valid_count = vec_tfidf.transform(valid['headline'])\n",
    "y_pred = clf.predict(X_valid_count)\n",
    "print('F1 score for tdidf vectorizer:', f1_score(y_valid, y_pred, average='micro'))"
   ]
  },
  {
   "cell_type": "markdown",
   "id": "incoming-inflation",
   "metadata": {
    "ExecuteTime": {
     "end_time": "2021-02-22T14:38:00.066671Z",
     "start_time": "2021-02-22T14:38:00.058705Z"
    }
   },
   "source": [
    "### Prediction "
   ]
  },
  {
   "cell_type": "code",
   "execution_count": 18,
   "id": "linear-dominant",
   "metadata": {
    "ExecuteTime": {
     "end_time": "2021-02-23T00:47:33.473613Z",
     "start_time": "2021-02-23T00:47:12.938593Z"
    }
   },
   "outputs": [],
   "source": [
    "# Retrain the model with both training and validation data \n",
    "\n",
    "# Concatenate train and validation data \n",
    "X_train = train['text'].append(valid['content'], ignore_index=True)\n",
    "y_train = train['sent'].append(valid['sent'], ignore_index=True)\n",
    "\n",
    "# Use word count vectorizer (higher f1 score)\n",
    "vec_count = CountVectorizer(stop_words='english')\n",
    "vec_count.fit(X_train)\n",
    "X_train = vec_count.transform(X_train)\n",
    "\n",
    "# Train MNB model\n",
    "clf = MultinomialNB()\n",
    "clf.fit(X_train, y_train)\n",
    "\n",
    "# Make predictions \n",
    "X_test = vec_count.transform(df_news['content'])\n",
    "y_pred = clf.predict(X_test)\n",
    "df_news['sent'] = y_pred"
   ]
  },
  {
   "cell_type": "code",
   "execution_count": 19,
   "id": "increasing-iceland",
   "metadata": {
    "ExecuteTime": {
     "end_time": "2021-02-23T00:47:33.838625Z",
     "start_time": "2021-02-23T00:47:33.474612Z"
    }
   },
   "outputs": [
    {
     "name": "stdout",
     "output_type": "stream",
     "text": [
      " 1    27187\n",
      " 0    11072\n",
      "-1      256\n",
      "Name: sent, dtype: int64\n"
     ]
    },
    {
     "data": {
      "text/html": [
       "<div>\n",
       "<style scoped>\n",
       "    .dataframe tbody tr th:only-of-type {\n",
       "        vertical-align: middle;\n",
       "    }\n",
       "\n",
       "    .dataframe tbody tr th {\n",
       "        vertical-align: top;\n",
       "    }\n",
       "\n",
       "    .dataframe thead th {\n",
       "        text-align: right;\n",
       "    }\n",
       "</style>\n",
       "<table border=\"1\" class=\"dataframe\">\n",
       "  <thead>\n",
       "    <tr style=\"text-align: right;\">\n",
       "      <th></th>\n",
       "      <th>headline</th>\n",
       "      <th>content</th>\n",
       "      <th>sent</th>\n",
       "    </tr>\n",
       "  </thead>\n",
       "  <tbody>\n",
       "    <tr>\n",
       "      <th>1042</th>\n",
       "      <td>FAA chief vows tough line after some Trump sup...</td>\n",
       "      <td>By David ShepardsonWASHINGTON, Jan 9 (Reuters)...</td>\n",
       "      <td>-1</td>\n",
       "    </tr>\n",
       "    <tr>\n",
       "      <th>1043</th>\n",
       "      <td>RPT-Alaska Airlines puts 14 people on no-fly l...</td>\n",
       "      <td>(Repeating to fix formatting)Jan 8 (Reuters) -...</td>\n",
       "      <td>-1</td>\n",
       "    </tr>\n",
       "    <tr>\n",
       "      <th>1044</th>\n",
       "      <td>Alaska Airlines puts 14 people on no-fly list ...</td>\n",
       "      <td>Jan 8 (Reuters) - Alaska Airlines said on Frid...</td>\n",
       "      <td>-1</td>\n",
       "    </tr>\n",
       "    <tr>\n",
       "      <th>1106</th>\n",
       "      <td>GameStop fizzles as stock falls below $50 a share</td>\n",
       "      <td>GameStop (GME) shares continue to decline as t...</td>\n",
       "      <td>-1</td>\n",
       "    </tr>\n",
       "    <tr>\n",
       "      <th>1632</th>\n",
       "      <td>Michael Burry's Top 5 Trades of the 3rd Quarter</td>\n",
       "      <td>- By James LiMichael Burry, the investor famou...</td>\n",
       "      <td>-1</td>\n",
       "    </tr>\n",
       "    <tr>\n",
       "      <th>...</th>\n",
       "      <td>...</td>\n",
       "      <td>...</td>\n",
       "      <td>...</td>\n",
       "    </tr>\n",
       "    <tr>\n",
       "      <th>37346</th>\n",
       "      <td>Investment Note: WestRock Looks Like a Bargain</td>\n",
       "      <td>This article first appeared on GuruFocus.Warni...</td>\n",
       "      <td>-1</td>\n",
       "    </tr>\n",
       "    <tr>\n",
       "      <th>37780</th>\n",
       "      <td>Sheldon Adelsons Last Roll of the Dice May Be ...</td>\n",
       "      <td>(Bloomberg Opinion) -- No one ever said that t...</td>\n",
       "      <td>-1</td>\n",
       "    </tr>\n",
       "    <tr>\n",
       "      <th>37918</th>\n",
       "      <td>Carl Icahn Discards HP Stake in the 2nd Quarter</td>\n",
       "      <td>Carl Icahn (Trades, Portfolio), board chairman...</td>\n",
       "      <td>-1</td>\n",
       "    </tr>\n",
       "    <tr>\n",
       "      <th>37919</th>\n",
       "      <td>MarineMax and 3 Other Stocks Shine on Price-Ca...</td>\n",
       "      <td>This article first appeared on GuruFocus.HZO 3...</td>\n",
       "      <td>-1</td>\n",
       "    </tr>\n",
       "    <tr>\n",
       "      <th>38190</th>\n",
       "      <td>Costco will now sell giant packages of Beyond ...</td>\n",
       "      <td>Bulk-sized plant-based meatballs from Beyond M...</td>\n",
       "      <td>-1</td>\n",
       "    </tr>\n",
       "  </tbody>\n",
       "</table>\n",
       "<p>256 rows × 3 columns</p>\n",
       "</div>"
      ],
      "text/plain": [
       "                                                headline  \\\n",
       "1042   FAA chief vows tough line after some Trump sup...   \n",
       "1043   RPT-Alaska Airlines puts 14 people on no-fly l...   \n",
       "1044   Alaska Airlines puts 14 people on no-fly list ...   \n",
       "1106   GameStop fizzles as stock falls below $50 a share   \n",
       "1632     Michael Burry's Top 5 Trades of the 3rd Quarter   \n",
       "...                                                  ...   \n",
       "37346     Investment Note: WestRock Looks Like a Bargain   \n",
       "37780  Sheldon Adelsons Last Roll of the Dice May Be ...   \n",
       "37918    Carl Icahn Discards HP Stake in the 2nd Quarter   \n",
       "37919  MarineMax and 3 Other Stocks Shine on Price-Ca...   \n",
       "38190  Costco will now sell giant packages of Beyond ...   \n",
       "\n",
       "                                                 content  sent  \n",
       "1042   By David ShepardsonWASHINGTON, Jan 9 (Reuters)...    -1  \n",
       "1043   (Repeating to fix formatting)Jan 8 (Reuters) -...    -1  \n",
       "1044   Jan 8 (Reuters) - Alaska Airlines said on Frid...    -1  \n",
       "1106   GameStop (GME) shares continue to decline as t...    -1  \n",
       "1632   - By James LiMichael Burry, the investor famou...    -1  \n",
       "...                                                  ...   ...  \n",
       "37346  This article first appeared on GuruFocus.Warni...    -1  \n",
       "37780  (Bloomberg Opinion) -- No one ever said that t...    -1  \n",
       "37918  Carl Icahn (Trades, Portfolio), board chairman...    -1  \n",
       "37919  This article first appeared on GuruFocus.HZO 3...    -1  \n",
       "38190  Bulk-sized plant-based meatballs from Beyond M...    -1  \n",
       "\n",
       "[256 rows x 3 columns]"
      ]
     },
     "execution_count": 19,
     "metadata": {},
     "output_type": "execute_result"
    }
   ],
   "source": [
    "# Check distribution of predictions \n",
    "print(df_news['sent'].value_counts())\n",
    "\n",
    "# Examine the accuracy of negative articles \n",
    "df_news.loc[df_news['sent']==-1, ['headline', 'content', 'sent']]"
   ]
  },
  {
   "cell_type": "markdown",
   "id": "introductory-spelling",
   "metadata": {},
   "source": [
    "Notes:\n",
    "\n",
    "1. Noises in articles' content:\n",
    "    - advertisement text (at the end of every article)\n",
    "    - information about other stocks (e.g. analysis for 5 stocks)\n",
    "2. Nevertheless, articles' content improves model performance (F1 score)"
   ]
  },
  {
   "cell_type": "markdown",
   "id": "noble-funeral",
   "metadata": {},
   "source": [
    "## Bi-LSTM \n"
   ]
  },
  {
   "cell_type": "code",
   "execution_count": 27,
   "id": "covered-appendix",
   "metadata": {
    "ExecuteTime": {
     "end_time": "2021-02-23T00:49:36.528596Z",
     "start_time": "2021-02-23T00:49:36.525591Z"
    }
   },
   "outputs": [],
   "source": [
    "import tensorflow\n",
    "from tensorflow import keras\n",
    "\n",
    "from tensorflow.keras.preprocessing.text import Tokenizer\n",
    "from tensorflow.keras.preprocessing.sequence import pad_sequences\n",
    "from tensorflow.keras.models import Sequential, load_model\n",
    "from tensorflow.keras import layers\n",
    "from sklearn.model_selection import train_test_split \n",
    "from sklearn.preprocessing import OneHotEncoder"
   ]
  },
  {
   "cell_type": "code",
   "execution_count": 21,
   "id": "circular-conversion",
   "metadata": {
    "ExecuteTime": {
     "end_time": "2021-02-23T00:47:37.517014Z",
     "start_time": "2021-02-23T00:47:37.505014Z"
    }
   },
   "outputs": [
    {
     "data": {
      "text/html": [
       "<div>\n",
       "<style scoped>\n",
       "    .dataframe tbody tr th:only-of-type {\n",
       "        vertical-align: middle;\n",
       "    }\n",
       "\n",
       "    .dataframe tbody tr th {\n",
       "        vertical-align: top;\n",
       "    }\n",
       "\n",
       "    .dataframe thead th {\n",
       "        text-align: right;\n",
       "    }\n",
       "</style>\n",
       "<table border=\"1\" class=\"dataframe\">\n",
       "  <thead>\n",
       "    <tr style=\"text-align: right;\">\n",
       "      <th></th>\n",
       "      <th>sent_-1</th>\n",
       "      <th>sent_0</th>\n",
       "      <th>sent_1</th>\n",
       "    </tr>\n",
       "  </thead>\n",
       "  <tbody>\n",
       "    <tr>\n",
       "      <th>0</th>\n",
       "      <td>0.0</td>\n",
       "      <td>1.0</td>\n",
       "      <td>0.0</td>\n",
       "    </tr>\n",
       "    <tr>\n",
       "      <th>1</th>\n",
       "      <td>0.0</td>\n",
       "      <td>1.0</td>\n",
       "      <td>0.0</td>\n",
       "    </tr>\n",
       "    <tr>\n",
       "      <th>2</th>\n",
       "      <td>1.0</td>\n",
       "      <td>0.0</td>\n",
       "      <td>0.0</td>\n",
       "    </tr>\n",
       "    <tr>\n",
       "      <th>3</th>\n",
       "      <td>0.0</td>\n",
       "      <td>0.0</td>\n",
       "      <td>1.0</td>\n",
       "    </tr>\n",
       "    <tr>\n",
       "      <th>4</th>\n",
       "      <td>0.0</td>\n",
       "      <td>0.0</td>\n",
       "      <td>1.0</td>\n",
       "    </tr>\n",
       "  </tbody>\n",
       "</table>\n",
       "</div>"
      ],
      "text/plain": [
       "   sent_-1  sent_0  sent_1\n",
       "0      0.0     1.0     0.0\n",
       "1      0.0     1.0     0.0\n",
       "2      1.0     0.0     0.0\n",
       "3      0.0     0.0     1.0\n",
       "4      0.0     0.0     1.0"
      ]
     },
     "execution_count": 21,
     "metadata": {},
     "output_type": "execute_result"
    }
   ],
   "source": [
    "# One hot encode variable \"sentiment\"\n",
    "enc = OneHotEncoder()\n",
    "y = enc.fit_transform(np.array(train['sent']).reshape(-1, 1)).toarray()\n",
    "cols = enc.get_feature_names(['sent'])\n",
    "\n",
    "y = pd.DataFrame(y, columns=cols)\n",
    "y.head()"
   ]
  },
  {
   "cell_type": "code",
   "execution_count": 22,
   "id": "republican-border",
   "metadata": {
    "ExecuteTime": {
     "end_time": "2021-02-23T00:47:37.712864Z",
     "start_time": "2021-02-23T00:47:37.518040Z"
    }
   },
   "outputs": [],
   "source": [
    "# Split train into train and validation data\n",
    "X_train, X_test, y_train, y_test = train_test_split(train['text'], y, \n",
    "                                                    test_size=0.2, random_state=42, \n",
    "                                                    stratify=train['sent'])\n",
    "\n",
    "# Preprocess text data \n",
    "X_train = X_train.apply(remove_punct)\n",
    "X_train = X_train.apply(remove_stopwords)\n",
    "X_train = X_train.str.lower()\n",
    "\n",
    "X_test = X_test.apply(remove_punct)\n",
    "X_test = X_test.apply(remove_stopwords)\n",
    "X_test = X_test.str.lower()"
   ]
  },
  {
   "cell_type": "code",
   "execution_count": 25,
   "id": "charged-miller",
   "metadata": {
    "ExecuteTime": {
     "end_time": "2021-02-23T00:48:14.665722Z",
     "start_time": "2021-02-23T00:48:12.787036Z"
    },
    "scrolled": true
   },
   "outputs": [
    {
     "name": "stdout",
     "output_type": "stream",
     "text": [
      "Model: \"model\"\n",
      "_________________________________________________________________\n",
      "Layer (type)                 Output Shape              Param #   \n",
      "=================================================================\n",
      "input_1 (InputLayer)         [(None, None)]            0         \n",
      "_________________________________________________________________\n",
      "embedding (Embedding)        (None, None, 128)         640000    \n",
      "_________________________________________________________________\n",
      "bidirectional (Bidirectional (None, None, 128)         98816     \n",
      "_________________________________________________________________\n",
      "bidirectional_1 (Bidirection (None, 128)               98816     \n",
      "_________________________________________________________________\n",
      "dense (Dense)                (None, 3)                 387       \n",
      "=================================================================\n",
      "Total params: 838,019\n",
      "Trainable params: 838,019\n",
      "Non-trainable params: 0\n",
      "_________________________________________________________________\n"
     ]
    }
   ],
   "source": [
    "max_features = 5000  # Only consider the top 5k words\n",
    "maxlen = 1000\n",
    "\n",
    "inputs = keras.Input(shape=(None,), dtype=\"int32\")\n",
    "\n",
    "# Embed each integer in a 128-dimensional vector\n",
    "x = layers.Embedding(max_features, 128)(inputs)\n",
    "\n",
    "# Add 2 bidirectional LSTMs\n",
    "x = layers.Bidirectional(layers.LSTM(64, return_sequences=True))(x)\n",
    "x = layers.Bidirectional(layers.LSTM(64))(x)\n",
    "\n",
    "# Add a classifier\n",
    "outputs = layers.Dense(3, activation=\"sigmoid\")(x)\n",
    "model = keras.Model(inputs, outputs)\n",
    "model.summary()"
   ]
  },
  {
   "cell_type": "code",
   "execution_count": 26,
   "id": "individual-toner",
   "metadata": {
    "ExecuteTime": {
     "end_time": "2021-02-23T00:48:18.700270Z",
     "start_time": "2021-02-23T00:48:18.558224Z"
    }
   },
   "outputs": [],
   "source": [
    "# Transform X for model training and prediction \n",
    "\n",
    "# Tokenization \n",
    "tokenizer = Tokenizer(num_words=max_features)\n",
    "tokenizer.fit_on_texts(X_train)\n",
    "\n",
    "# Convert into sequences\n",
    "X_train = tokenizer.texts_to_sequences(X_train)\n",
    "X_test = tokenizer.texts_to_sequences(X_test)\n",
    "\n",
    "X_train = keras.preprocessing.sequence.pad_sequences(X_train, maxlen=maxlen)\n",
    "X_test = keras.preprocessing.sequence.pad_sequences(X_test, maxlen=maxlen)"
   ]
  },
  {
   "cell_type": "code",
   "execution_count": null,
   "id": "hired-hazard",
   "metadata": {
    "ExecuteTime": {
     "end_time": "2021-02-23T00:47:38.386666Z",
     "start_time": "2021-02-23T00:46:12.383Z"
    }
   },
   "outputs": [],
   "source": [
    "# Train the model (took 7 mins to run)\n",
    "\n",
    "# model.compile(\"adam\", \"categorical_crossentropy\", metrics=[\"accuracy\"])\n",
    "# model.fit(X_train, y_train, batch_size=32, epochs=2, validation_data=(X_test, y_test))\n",
    "# model.save('bilstm_model.h5')  "
   ]
  },
  {
   "cell_type": "code",
   "execution_count": 28,
   "id": "spectacular-question",
   "metadata": {
    "ExecuteTime": {
     "end_time": "2021-02-23T00:49:55.392233Z",
     "start_time": "2021-02-23T00:49:54.120190Z"
    }
   },
   "outputs": [],
   "source": [
    "# Load model \n",
    "model = load_model('bilstm_model.h5')"
   ]
  },
  {
   "cell_type": "code",
   "execution_count": 29,
   "id": "loose-chambers",
   "metadata": {
    "ExecuteTime": {
     "end_time": "2021-02-23T00:49:57.209006Z",
     "start_time": "2021-02-23T00:49:57.043997Z"
    }
   },
   "outputs": [],
   "source": [
    "# Transform validation data \n",
    "X_valid = valid['content'].apply(remove_punct)\n",
    "X_valid = X_valid.apply(remove_stopwords)\n",
    "X_valid = X_valid.str.lower()\n",
    "X_valid = tokenizer.texts_to_sequences(X_valid)\n",
    "X_valid = keras.preprocessing.sequence.pad_sequences(X_valid, maxlen=maxlen)"
   ]
  },
  {
   "cell_type": "code",
   "execution_count": 30,
   "id": "excess-assumption",
   "metadata": {
    "ExecuteTime": {
     "end_time": "2021-02-23T00:50:04.566436Z",
     "start_time": "2021-02-23T00:50:02.767649Z"
    }
   },
   "outputs": [
    {
     "data": {
      "text/plain": [
       "0.45"
      ]
     },
     "execution_count": 30,
     "metadata": {},
     "output_type": "execute_result"
    }
   ],
   "source": [
    "# Assess model performance \n",
    "preds = model.predict(X_valid) # each prediction will have three values \n",
    "labels = [-1, 0, 1]\n",
    "y_pred = []\n",
    "\n",
    "for pred in preds: \n",
    "    idx = np.where(pred == max(pred))[0][0] # Get the index of max value\n",
    "    y_pred.append(labels[idx])\n",
    "    \n",
    "y_valid = valid['sent']\n",
    "f1_score(y_valid, y_pred, average='micro')"
   ]
  },
  {
   "cell_type": "markdown",
   "id": "infinite-accident",
   "metadata": {
    "heading_collapsed": true
   },
   "source": [
    "## Notes\n",
    "1. Could try BERT\n",
    "2. Compare the models on a standardized metric"
   ]
  }
 ],
 "metadata": {
  "kernelspec": {
   "display_name": "Python 3",
   "language": "python",
   "name": "python3"
  },
  "language_info": {
   "codemirror_mode": {
    "name": "ipython",
    "version": 3
   },
   "file_extension": ".py",
   "mimetype": "text/x-python",
   "name": "python",
   "nbconvert_exporter": "python",
   "pygments_lexer": "ipython3",
   "version": "3.8.3"
  },
  "toc": {
   "base_numbering": 1,
   "nav_menu": {},
   "number_sections": true,
   "sideBar": true,
   "skip_h1_title": false,
   "title_cell": "Table of Contents",
   "title_sidebar": "Contents",
   "toc_cell": true,
   "toc_position": {},
   "toc_section_display": true,
   "toc_window_display": false
  }
 },
 "nbformat": 4,
 "nbformat_minor": 5
}
